{
 "cells": [
  {
   "cell_type": "code",
   "execution_count": 5,
   "metadata": {},
   "outputs": [
    {
     "data": {
      "text/plain": [
       "array([[10, 10,  8,  9,  7],\n",
       "       [ 4,  5,  4,  3,  3],\n",
       "       [ 3,  3,  1,  1,  1]])"
      ]
     },
     "execution_count": 5,
     "metadata": {},
     "output_type": "execute_result"
    }
   ],
   "source": [
    "import numpy as np\n",
    "import scipy.stats as stats\n",
    "import scipy\n",
    "tang = np.array([[10, 10, 8, 9, 7],\n",
    "                [4, 5, 4, 3, 3],\n",
    "                [3, 3, 1, 1, 1]])\n",
    "tang"
   ]
  },
  {
   "cell_type": "code",
   "execution_count": 6,
   "metadata": {},
   "outputs": [
    {
     "data": {
      "text/plain": [
       "array([[1.        , 0.64168895, 0.84016805],\n",
       "       [0.64168895, 1.        , 0.76376262],\n",
       "       [0.84016805, 0.76376262, 1.        ]])"
      ]
     },
     "execution_count": 6,
     "metadata": {},
     "output_type": "execute_result"
    }
   ],
   "source": [
    "np.corrcoef(tang)"
   ]
  },
  {
   "cell_type": "code",
   "execution_count": 7,
   "metadata": {},
   "outputs": [
    {
     "data": {
      "text/plain": [
       "array([[1.        , 0.98898224, 0.9526832 , 0.9939441 , 0.97986371],\n",
       "       [0.98898224, 1.        , 0.98718399, 0.99926008, 0.99862543],\n",
       "       [0.9526832 , 0.98718399, 1.        , 0.98031562, 0.99419163],\n",
       "       [0.9939441 , 0.99926008, 0.98031562, 1.        , 0.99587059],\n",
       "       [0.97986371, 0.99862543, 0.99419163, 0.99587059, 1.        ]])"
      ]
     },
     "execution_count": 7,
     "metadata": {},
     "output_type": "execute_result"
    }
   ],
   "source": [
    "np.corrcoef(tang, rowvar=0)"
   ]
  },
  {
   "cell_type": "code",
   "execution_count": 8,
   "metadata": {},
   "outputs": [
    {
     "name": "stdout",
     "output_type": "stream",
     "text": [
      "correlation 0.989176319869056\n",
      "pvalue 5.926875946481621e-08\n"
     ]
    },
    {
     "name": "stderr",
     "output_type": "stream",
     "text": [
      "/tmp/ipykernel_910327/2595045717.py:3: DeprecationWarning: Please import `pearsonr` from the `scipy.stats` namespace; the `scipy.stats.stats` namespace is deprecated and will be removed in SciPy 2.0.0.\n",
      "  correlation, pvalue = stats.stats.pearsonr(x, y)\n"
     ]
    }
   ],
   "source": [
    "x = [10.35, 6.24, 3.18, 8.46, 3.21, 7.65, 4.32, 8.66, 9.12, 10.31]\n",
    "y = [5.1, 3.15, 1.67, 4.33, 1.76, 4.11, 2.11, 4.88, 4.99, 5.12]\n",
    "correlation, pvalue = stats.stats.pearsonr(x, y)\n",
    "print('correlation', correlation)\n",
    "print('pvalue', pvalue)"
   ]
  },
  {
   "cell_type": "code",
   "execution_count": 9,
   "metadata": {},
   "outputs": [
    {
     "data": {
      "image/png": "[encoded data removed]",
      "text/plain": [
       "<Figure size 640x480 with 1 Axes>"
      ]
     },
     "metadata": {},
     "output_type": "display_data"
    }
   ],
   "source": [
    "import matplotlib.pyplot as plt\n",
    "plt.scatter(x, y)\n",
    "plt.show()"
   ]
  },
  {
   "cell_type": "code",
   "execution_count": 10,
   "metadata": {},
   "outputs": [
    {
     "name": "stdout",
     "output_type": "stream",
     "text": [
      "correlation 0.7659287963138055\n",
      "pvalue 0.026696497208768055\n"
     ]
    },
    {
     "name": "stderr",
     "output_type": "stream",
     "text": [
      "/tmp/ipykernel_910327/3609072803.py:3: DeprecationWarning: Please import `pearsonr` from the `scipy.stats` namespace; the `scipy.stats.stats` namespace is deprecated and will be removed in SciPy 2.0.0.\n",
      "  correlation, pvalue = stats.stats.pearsonr(x, y)\n"
     ]
    }
   ],
   "source": [
    "x = [0.6, 0.7, 1, 2.1, 2.9, 3.2, 5.5, 6.7]\n",
    "y = np.power(x, 10)\n",
    "correlation, pvalue = stats.stats.pearsonr(x, y)\n",
    "print('correlation', correlation)\n",
    "print('pvalue', pvalue)"
   ]
  },
  {
   "cell_type": "code",
   "execution_count": 11,
   "metadata": {},
   "outputs": [
    {
     "name": "stdout",
     "output_type": "stream",
     "text": [
      "correlation 0.9999999999999999\n",
      "pvalue 6.646897422032013e-64\n"
     ]
    },
    {
     "name": "stderr",
     "output_type": "stream",
     "text": [
      "/tmp/ipykernel_910327/3234507220.py:3: DeprecationWarning: Please import `spearmanr` from the `scipy.stats` namespace; the `scipy.stats.stats` namespace is deprecated and will be removed in SciPy 2.0.0.\n",
      "  correlation, pvalue = stats.stats.spearmanr(x, y)\n"
     ]
    }
   ],
   "source": [
    "x = [10.35, 6.24, 3.18, 8.46, 3.21, 7.65, 4.32, 8.66, 9.12, 10.31]\n",
    "y = [5.13, 3.15, 1.67, 4.33, 1.76, 4.11, 2.11, 4.88, 4.99, 5.12]\n",
    "correlation, pvalue = stats.stats.spearmanr(x, y)\n",
    "print('correlation', correlation)\n",
    "print('pvalue', pvalue)"
   ]
  },
  {
   "cell_type": "code",
   "execution_count": 12,
   "metadata": {},
   "outputs": [
    {
     "name": "stdout",
     "output_type": "stream",
     "text": [
      "[10.  4.  1.  6.  2.  5.  3.  7.  8.  9.] [10.  4.  1.  6.  2.  5.  3.  7.  8.  9.]\n",
      "correlation 0.9999999999999999\n",
      "pvalue 6.646897422032013e-64\n"
     ]
    },
    {
     "name": "stderr",
     "output_type": "stream",
     "text": [
      "/tmp/ipykernel_910327/2155966568.py:6: DeprecationWarning: Please import `rankdata` from the `scipy.stats` namespace; the `scipy.stats.stats` namespace is deprecated and will be removed in SciPy 2.0.0.\n",
      "  x = scipy.stats.stats.rankdata(x)\n",
      "/tmp/ipykernel_910327/2155966568.py:7: DeprecationWarning: Please import `rankdata` from the `scipy.stats` namespace; the `scipy.stats.stats` namespace is deprecated and will be removed in SciPy 2.0.0.\n",
      "  y = scipy.stats.stats.rankdata(y)\n",
      "/tmp/ipykernel_910327/2155966568.py:9: DeprecationWarning: Please import `spearmanr` from the `scipy.stats` namespace; the `scipy.stats.stats` namespace is deprecated and will be removed in SciPy 2.0.0.\n",
      "  correlation, pvalue = stats.stats.spearmanr(x, y)\n"
     ]
    }
   ],
   "source": [
    "import scipy.stats\n",
    "\n",
    "\n",
    "x = [10.35, 6.24, 3.18, 8.46, 3.21, 7.65, 4.32, 8.66, 9.12, 10.31]\n",
    "y = [5.13, 3.15, 1.67, 4.33, 1.76, 4.11, 2.11, 4.88, 4.99, 5.12]\n",
    "x = scipy.stats.stats.rankdata(x)\n",
    "y = scipy.stats.stats.rankdata(y)\n",
    "print(x, y)\n",
    "correlation, pvalue = stats.stats.spearmanr(x, y)\n",
    "print('correlation', correlation)\n",
    "print('pvalue', pvalue)"
   ]
  }
 ],
 "metadata": {
  "kernelspec": {
   "display_name": "base",
   "language": "python",
   "name": "python3"
  },
  "language_info": {
   "codemirror_mode": {
    "name": "ipython",
    "version": 3
   },
   "file_extension": ".py",
   "mimetype": "text/x-python",
   "name": "python",
   "nbconvert_exporter": "python",
   "pygments_lexer": "ipython3",
   "version": "3.10.8"
  }
 },
 "nbformat": 4,
 "nbformat_minor": 2
}
