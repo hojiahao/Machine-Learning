{
 "cells": [
  {
   "cell_type": "code",
   "execution_count": 1,
   "id": "8b157d72-1098-41f5-be1d-0f2762c593c4",
   "metadata": {},
   "outputs": [
    {
     "data": {
      "text/plain": [
       "array([ 0.        ,  0.52631579,  1.05263158,  1.57894737,  2.10526316,\n",
       "        2.63157895,  3.15789474,  3.68421053,  4.21052632,  4.73684211,\n",
       "        5.26315789,  5.78947368,  6.31578947,  6.84210526,  7.36842105,\n",
       "        7.89473684,  8.42105263,  8.94736842,  9.47368421, 10.        ])"
      ]
     },
     "execution_count": 1,
     "metadata": {},
     "output_type": "execute_result"
    }
   ],
   "source": [
    "import numpy as np\n",
    "import matplotlib.pyplot as plt\n",
    "import statsmodels.api as sm\n",
    "\n",
    "n = 20\n",
    "x = np.linspace(0, 10, n)\n",
    "x"
   ]
  },
  {
   "cell_type": "markdown",
   "id": "5c68a75a-5226-490a-a766-c97d0886c694",
   "metadata": {},
   "source": [
    "simple linear regression"
   ]
  },
  {
   "cell_type": "code",
   "execution_count": 2,
   "id": "e6b6cbe3-e71d-423d-ac15-490755d1468c",
   "metadata": {},
   "outputs": [
    {
     "data": {
      "text/plain": [
       "array([[ 1.        ,  0.        ],\n",
       "       [ 1.        ,  0.52631579],\n",
       "       [ 1.        ,  1.05263158],\n",
       "       [ 1.        ,  1.57894737],\n",
       "       [ 1.        ,  2.10526316],\n",
       "       [ 1.        ,  2.63157895],\n",
       "       [ 1.        ,  3.15789474],\n",
       "       [ 1.        ,  3.68421053],\n",
       "       [ 1.        ,  4.21052632],\n",
       "       [ 1.        ,  4.73684211],\n",
       "       [ 1.        ,  5.26315789],\n",
       "       [ 1.        ,  5.78947368],\n",
       "       [ 1.        ,  6.31578947],\n",
       "       [ 1.        ,  6.84210526],\n",
       "       [ 1.        ,  7.36842105],\n",
       "       [ 1.        ,  7.89473684],\n",
       "       [ 1.        ,  8.42105263],\n",
       "       [ 1.        ,  8.94736842],\n",
       "       [ 1.        ,  9.47368421],\n",
       "       [ 1.        , 10.        ]])"
      ]
     },
     "execution_count": 2,
     "metadata": {},
     "output_type": "execute_result"
    }
   ],
   "source": [
    "X = sm.add_constant(x)\n",
    "X"
   ]
  },
  {
   "cell_type": "code",
   "execution_count": 3,
   "id": "de08dd4c-4748-4b0e-8e38-78f87f95a39f",
   "metadata": {},
   "outputs": [
    {
     "data": {
      "text/plain": [
       "array([2, 5])"
      ]
     },
     "execution_count": 3,
     "metadata": {},
     "output_type": "execute_result"
    }
   ],
   "source": [
    "# beta0, beta1分别设置成2,5\n",
    "beta = np.array([2, 5])\n",
    "beta"
   ]
  },
  {
   "cell_type": "code",
   "execution_count": 4,
   "id": "681e7735-1d35-4222-8f43-f441657a5319",
   "metadata": {},
   "outputs": [
    {
     "data": {
      "text/plain": [
       "array([-0.33540466, -0.47019911,  0.37913719,  0.79986532,  0.43552063,\n",
       "       -0.83608253, -1.20604764,  0.566178  , -0.06155545,  0.97428648,\n",
       "       -1.27947961, -0.84962843,  0.26360796,  1.48462487, -0.27718123,\n",
       "        0.50967341, -0.13663151, -1.15186676, -1.2725245 ,  0.50589847])"
      ]
     },
     "execution_count": 4,
     "metadata": {},
     "output_type": "execute_result"
    }
   ],
   "source": [
    "# 误差项\n",
    "e = np.random.normal(size=n)\n",
    "e"
   ]
  },
  {
   "cell_type": "code",
   "execution_count": 5,
   "id": "f5e5ab05-7b6e-46cf-8e9b-5b9c476acc65",
   "metadata": {},
   "outputs": [
    {
     "data": {
      "text/plain": [
       "array([ 1.66459534,  4.16137983,  7.64229509, 10.69460216, 12.96183642,\n",
       "       14.3218122 , 16.58342604, 20.98723063, 22.99107613, 26.65849701,\n",
       "       27.03630986, 30.09773999, 33.84255533, 37.69515118, 38.56492403,\n",
       "       41.98335763, 43.96863164, 45.58497534, 48.09589655, 52.50589847])"
      ]
     },
     "execution_count": 5,
     "metadata": {},
     "output_type": "execute_result"
    }
   ],
   "source": [
    "# 实际值y\n",
    "y = np.dot(X, beta) + e\n",
    "y"
   ]
  },
  {
   "cell_type": "code",
   "execution_count": 6,
   "id": "55bab09e-9e16-4fa9-a3b9-8ca4ad4847ee",
   "metadata": {},
   "outputs": [],
   "source": [
    "# 最小二乘法\n",
    "model = sm.OLS(y, X)"
   ]
  },
  {
   "cell_type": "code",
   "execution_count": 7,
   "id": "b23676af-2b85-494c-b950-1eca29ba6f2a",
   "metadata": {},
   "outputs": [],
   "source": [
    "# 拟合数据\n",
    "res = model.fit()"
   ]
  },
  {
   "cell_type": "code",
   "execution_count": 8,
   "id": "7460bbb9-7ab3-46f6-9462-1e892ecc2aa2",
   "metadata": {},
   "outputs": [
    {
     "data": {
      "text/plain": [
       "array([2.00385687, 4.97965053])"
      ]
     },
     "execution_count": 8,
     "metadata": {},
     "output_type": "execute_result"
    }
   ],
   "source": [
    "# 回归系数\n",
    "res.params"
   ]
  },
  {
   "cell_type": "code",
   "execution_count": 9,
   "id": "99b1ea72-34d4-43bf-8549-142d2137baec",
   "metadata": {},
   "outputs": [
    {
     "data": {
      "text/html": [
       "<table class=\"simpletable\">\n",
       "<caption>OLS Regression Results</caption>\n",
       "<tr>\n",
       "  <th>Dep. Variable:</th>            <td>y</td>        <th>  R-squared:         </th> <td>   0.997</td>\n",
       "</tr>\n",
       "<tr>\n",
       "  <th>Model:</th>                   <td>OLS</td>       <th>  Adj. R-squared:    </th> <td>   0.997</td>\n",
       "</tr>\n",
       "<tr>\n",
       "  <th>Method:</th>             <td>Least Squares</td>  <th>  F-statistic:       </th> <td>   6497.</td>\n",
       "</tr>\n",
       "<tr>\n",
       "  <th>Date:</th>             <td>Thu, 19 Sep 2024</td> <th>  Prob (F-statistic):</th> <td>1.74e-24</td>\n",
       "</tr>\n",
       "<tr>\n",
       "  <th>Time:</th>                 <td>13:08:59</td>     <th>  Log-Likelihood:    </th> <td> -23.803</td>\n",
       "</tr>\n",
       "<tr>\n",
       "  <th>No. Observations:</th>      <td>    20</td>      <th>  AIC:               </th> <td>   51.61</td>\n",
       "</tr>\n",
       "<tr>\n",
       "  <th>Df Residuals:</th>          <td>    18</td>      <th>  BIC:               </th> <td>   53.60</td>\n",
       "</tr>\n",
       "<tr>\n",
       "  <th>Df Model:</th>              <td>     1</td>      <th>                     </th>     <td> </td>   \n",
       "</tr>\n",
       "<tr>\n",
       "  <th>Covariance Type:</th>      <td>nonrobust</td>    <th>                     </th>     <td> </td>   \n",
       "</tr>\n",
       "</table>\n",
       "<table class=\"simpletable\">\n",
       "<tr>\n",
       "    <td></td>       <th>coef</th>     <th>std err</th>      <th>t</th>      <th>P>|t|</th>  <th>[0.025</th>    <th>0.975]</th>  \n",
       "</tr>\n",
       "<tr>\n",
       "  <th>const</th> <td>    2.0039</td> <td>    0.361</td> <td>    5.545</td> <td> 0.000</td> <td>    1.245</td> <td>    2.763</td>\n",
       "</tr>\n",
       "<tr>\n",
       "  <th>x1</th>    <td>    4.9797</td> <td>    0.062</td> <td>   80.602</td> <td> 0.000</td> <td>    4.850</td> <td>    5.109</td>\n",
       "</tr>\n",
       "</table>\n",
       "<table class=\"simpletable\">\n",
       "<tr>\n",
       "  <th>Omnibus:</th>       <td> 1.292</td> <th>  Durbin-Watson:     </th> <td>   1.879</td>\n",
       "</tr>\n",
       "<tr>\n",
       "  <th>Prob(Omnibus):</th> <td> 0.524</td> <th>  Jarque-Bera (JB):  </th> <td>   0.857</td>\n",
       "</tr>\n",
       "<tr>\n",
       "  <th>Skew:</th>          <td> 0.081</td> <th>  Prob(JB):          </th> <td>   0.652</td>\n",
       "</tr>\n",
       "<tr>\n",
       "  <th>Kurtosis:</th>      <td> 1.999</td> <th>  Cond. No.          </th> <td>    11.5</td>\n",
       "</tr>\n",
       "</table><br/><br/>Notes:<br/>[1] Standard Errors assume that the covariance matrix of the errors is correctly specified."
      ],
      "text/latex": [
       "\\begin{center}\n",
       "\\begin{tabular}{lclc}\n",
       "\\toprule\n",
       "\\textbf{Dep. Variable:}    &        y         & \\textbf{  R-squared:         } &     0.997   \\\\\n",
       "\\textbf{Model:}            &       OLS        & \\textbf{  Adj. R-squared:    } &     0.997   \\\\\n",
       "\\textbf{Method:}           &  Least Squares   & \\textbf{  F-statistic:       } &     6497.   \\\\\n",
       "\\textbf{Date:}             & Thu, 19 Sep 2024 & \\textbf{  Prob (F-statistic):} &  1.74e-24   \\\\\n",
       "\\textbf{Time:}             &     13:08:59     & \\textbf{  Log-Likelihood:    } &   -23.803   \\\\\n",
       "\\textbf{No. Observations:} &          20      & \\textbf{  AIC:               } &     51.61   \\\\\n",
       "\\textbf{Df Residuals:}     &          18      & \\textbf{  BIC:               } &     53.60   \\\\\n",
       "\\textbf{Df Model:}         &           1      & \\textbf{                     } &             \\\\\n",
       "\\textbf{Covariance Type:}  &    nonrobust     & \\textbf{                     } &             \\\\\n",
       "\\bottomrule\n",
       "\\end{tabular}\n",
       "\\begin{tabular}{lcccccc}\n",
       "               & \\textbf{coef} & \\textbf{std err} & \\textbf{t} & \\textbf{P$> |$t$|$} & \\textbf{[0.025} & \\textbf{0.975]}  \\\\\n",
       "\\midrule\n",
       "\\textbf{const} &       2.0039  &        0.361     &     5.545  &         0.000        &        1.245    &        2.763     \\\\\n",
       "\\textbf{x1}    &       4.9797  &        0.062     &    80.602  &         0.000        &        4.850    &        5.109     \\\\\n",
       "\\bottomrule\n",
       "\\end{tabular}\n",
       "\\begin{tabular}{lclc}\n",
       "\\textbf{Omnibus:}       &  1.292 & \\textbf{  Durbin-Watson:     } &    1.879  \\\\\n",
       "\\textbf{Prob(Omnibus):} &  0.524 & \\textbf{  Jarque-Bera (JB):  } &    0.857  \\\\\n",
       "\\textbf{Skew:}          &  0.081 & \\textbf{  Prob(JB):          } &    0.652  \\\\\n",
       "\\textbf{Kurtosis:}      &  1.999 & \\textbf{  Cond. No.          } &     11.5  \\\\\n",
       "\\bottomrule\n",
       "\\end{tabular}\n",
       "%\\caption{OLS Regression Results}\n",
       "\\end{center}\n",
       "\n",
       "Notes: \\newline\n",
       " [1] Standard Errors assume that the covariance matrix of the errors is correctly specified."
      ],
      "text/plain": [
       "<class 'statsmodels.iolib.summary.Summary'>\n",
       "\"\"\"\n",
       "                            OLS Regression Results                            \n",
       "==============================================================================\n",
       "Dep. Variable:                      y   R-squared:                       0.997\n",
       "Model:                            OLS   Adj. R-squared:                  0.997\n",
       "Method:                 Least Squares   F-statistic:                     6497.\n",
       "Date:                Thu, 19 Sep 2024   Prob (F-statistic):           1.74e-24\n",
       "Time:                        13:08:59   Log-Likelihood:                -23.803\n",
       "No. Observations:                  20   AIC:                             51.61\n",
       "Df Residuals:                      18   BIC:                             53.60\n",
       "Df Model:                           1                                         \n",
       "Covariance Type:            nonrobust                                         \n",
       "==============================================================================\n",
       "                 coef    std err          t      P>|t|      [0.025      0.975]\n",
       "------------------------------------------------------------------------------\n",
       "const          2.0039      0.361      5.545      0.000       1.245       2.763\n",
       "x1             4.9797      0.062     80.602      0.000       4.850       5.109\n",
       "==============================================================================\n",
       "Omnibus:                        1.292   Durbin-Watson:                   1.879\n",
       "Prob(Omnibus):                  0.524   Jarque-Bera (JB):                0.857\n",
       "Skew:                           0.081   Prob(JB):                        0.652\n",
       "Kurtosis:                       1.999   Cond. No.                         11.5\n",
       "==============================================================================\n",
       "\n",
       "Notes:\n",
       "[1] Standard Errors assume that the covariance matrix of the errors is correctly specified.\n",
       "\"\"\""
      ]
     },
     "execution_count": 9,
     "metadata": {},
     "output_type": "execute_result"
    }
   ],
   "source": [
    "# 全部结果\n",
    "res.summary()"
   ]
  },
  {
   "cell_type": "code",
   "execution_count": 10,
   "id": "6d20020e-8440-40b7-9055-352546ab7b76",
   "metadata": {},
   "outputs": [
    {
     "data": {
      "text/plain": [
       "array([ 2.00385687,  4.62472557,  7.24559428,  9.86646298, 12.48733168,\n",
       "       15.10820038, 17.72906909, 20.34993779, 22.97080649, 25.59167519,\n",
       "       28.2125439 , 30.8334126 , 33.4542813 , 36.07515   , 38.69601871,\n",
       "       41.31688741, 43.93775611, 46.55862481, 49.17949352, 51.80036222])"
      ]
     },
     "execution_count": 10,
     "metadata": {},
     "output_type": "execute_result"
    }
   ],
   "source": [
    "# 拟合的估计值\n",
    "y_ = res.fittedvalues\n",
    "y_"
   ]
  },
  {
   "cell_type": "code",
   "execution_count": 11,
   "id": "e06e47b4-f791-4702-aee1-68301826efb5",
   "metadata": {},
   "outputs": [
    {
     "data": {
      "image/png": "[encoded data removed]",
      "text/plain": [
       "<Figure size 800x600 with 1 Axes>"
      ]
     },
     "metadata": {},
     "output_type": "display_data"
    }
   ],
   "source": [
    "fig, ax = plt.subplots(figsize=(8, 6))\n",
    "# 原始数据\n",
    "ax.plot(x, y, 'o', label='data')\n",
    "# 拟合数据\n",
    "ax.plot(x, y_, 'r--', label='test') \n",
    "ax.legend(loc='best')\n",
    "plt.show()"
   ]
  },
  {
   "cell_type": "markdown",
   "id": "f20d301a-9c48-4409-a044-70c89143a887",
   "metadata": {},
   "source": [
    "High-order regression"
   ]
  },
  {
   "cell_type": "code",
   "execution_count": 12,
   "id": "6ce54566-b806-4fdf-accd-51c3792eddf0",
   "metadata": {},
   "outputs": [],
   "source": [
    "# y = 5 + 2·x + 3·x^2\n",
    "n = 50\n",
    "x = np.linspace(0, 10, n)\n",
    "X = np.column_stack((x, x**2))\n",
    "X = sm.add_constant(X)"
   ]
  },
  {
   "cell_type": "code",
   "execution_count": 13,
   "id": "ee4b55f6-5785-4d71-ad6b-03fcc60d1aa8",
   "metadata": {},
   "outputs": [
    {
     "data": {
      "text/plain": [
       "array([4.61516936, 2.20698639, 2.97679578])"
      ]
     },
     "execution_count": 13,
     "metadata": {},
     "output_type": "execute_result"
    }
   ],
   "source": [
    "beta = np.array([5, 2, 3])\n",
    "e = np.random.normal(size=n)\n",
    "y = np.dot(X, beta) + e\n",
    "model = sm.OLS(y, X)\n",
    "results = model.fit()\n",
    "results.params"
   ]
  },
  {
   "cell_type": "code",
   "execution_count": 14,
   "id": "e52ea49e-10ac-48a8-93fb-123a0a9a7eba",
   "metadata": {},
   "outputs": [
    {
     "data": {
      "text/html": [
       "<table class=\"simpletable\">\n",
       "<caption>OLS Regression Results</caption>\n",
       "<tr>\n",
       "  <th>Dep. Variable:</th>            <td>y</td>        <th>  R-squared:         </th> <td>   1.000</td> \n",
       "</tr>\n",
       "<tr>\n",
       "  <th>Model:</th>                   <td>OLS</td>       <th>  Adj. R-squared:    </th> <td>   1.000</td> \n",
       "</tr>\n",
       "<tr>\n",
       "  <th>Method:</th>             <td>Least Squares</td>  <th>  F-statistic:       </th> <td>1.919e+05</td>\n",
       "</tr>\n",
       "<tr>\n",
       "  <th>Date:</th>             <td>Thu, 19 Sep 2024</td> <th>  Prob (F-statistic):</th> <td>1.16e-92</td> \n",
       "</tr>\n",
       "<tr>\n",
       "  <th>Time:</th>                 <td>13:09:06</td>     <th>  Log-Likelihood:    </th> <td> -74.460</td> \n",
       "</tr>\n",
       "<tr>\n",
       "  <th>No. Observations:</th>      <td>    50</td>      <th>  AIC:               </th> <td>   154.9</td> \n",
       "</tr>\n",
       "<tr>\n",
       "  <th>Df Residuals:</th>          <td>    47</td>      <th>  BIC:               </th> <td>   160.7</td> \n",
       "</tr>\n",
       "<tr>\n",
       "  <th>Df Model:</th>              <td>     2</td>      <th>                     </th>     <td> </td>    \n",
       "</tr>\n",
       "<tr>\n",
       "  <th>Covariance Type:</th>      <td>nonrobust</td>    <th>                     </th>     <td> </td>    \n",
       "</tr>\n",
       "</table>\n",
       "<table class=\"simpletable\">\n",
       "<tr>\n",
       "    <td></td>       <th>coef</th>     <th>std err</th>      <th>t</th>      <th>P>|t|</th>  <th>[0.025</th>    <th>0.975]</th>  \n",
       "</tr>\n",
       "<tr>\n",
       "  <th>const</th> <td>    4.6152</td> <td>    0.451</td> <td>   10.227</td> <td> 0.000</td> <td>    3.707</td> <td>    5.523</td>\n",
       "</tr>\n",
       "<tr>\n",
       "  <th>x1</th>    <td>    2.2070</td> <td>    0.209</td> <td>   10.575</td> <td> 0.000</td> <td>    1.787</td> <td>    2.627</td>\n",
       "</tr>\n",
       "<tr>\n",
       "  <th>x2</th>    <td>    2.9768</td> <td>    0.020</td> <td>  147.490</td> <td> 0.000</td> <td>    2.936</td> <td>    3.017</td>\n",
       "</tr>\n",
       "</table>\n",
       "<table class=\"simpletable\">\n",
       "<tr>\n",
       "  <th>Omnibus:</th>       <td> 2.795</td> <th>  Durbin-Watson:     </th> <td>   2.146</td>\n",
       "</tr>\n",
       "<tr>\n",
       "  <th>Prob(Omnibus):</th> <td> 0.247</td> <th>  Jarque-Bera (JB):  </th> <td>   1.562</td>\n",
       "</tr>\n",
       "<tr>\n",
       "  <th>Skew:</th>          <td>-0.102</td> <th>  Prob(JB):          </th> <td>   0.458</td>\n",
       "</tr>\n",
       "<tr>\n",
       "  <th>Kurtosis:</th>      <td> 2.158</td> <th>  Cond. No.          </th> <td>    142.</td>\n",
       "</tr>\n",
       "</table><br/><br/>Notes:<br/>[1] Standard Errors assume that the covariance matrix of the errors is correctly specified."
      ],
      "text/latex": [
       "\\begin{center}\n",
       "\\begin{tabular}{lclc}\n",
       "\\toprule\n",
       "\\textbf{Dep. Variable:}    &        y         & \\textbf{  R-squared:         } &     1.000   \\\\\n",
       "\\textbf{Model:}            &       OLS        & \\textbf{  Adj. R-squared:    } &     1.000   \\\\\n",
       "\\textbf{Method:}           &  Least Squares   & \\textbf{  F-statistic:       } & 1.919e+05   \\\\\n",
       "\\textbf{Date:}             & Thu, 19 Sep 2024 & \\textbf{  Prob (F-statistic):} &  1.16e-92   \\\\\n",
       "\\textbf{Time:}             &     13:09:06     & \\textbf{  Log-Likelihood:    } &   -74.460   \\\\\n",
       "\\textbf{No. Observations:} &          50      & \\textbf{  AIC:               } &     154.9   \\\\\n",
       "\\textbf{Df Residuals:}     &          47      & \\textbf{  BIC:               } &     160.7   \\\\\n",
       "\\textbf{Df Model:}         &           2      & \\textbf{                     } &             \\\\\n",
       "\\textbf{Covariance Type:}  &    nonrobust     & \\textbf{                     } &             \\\\\n",
       "\\bottomrule\n",
       "\\end{tabular}\n",
       "\\begin{tabular}{lcccccc}\n",
       "               & \\textbf{coef} & \\textbf{std err} & \\textbf{t} & \\textbf{P$> |$t$|$} & \\textbf{[0.025} & \\textbf{0.975]}  \\\\\n",
       "\\midrule\n",
       "\\textbf{const} &       4.6152  &        0.451     &    10.227  &         0.000        &        3.707    &        5.523     \\\\\n",
       "\\textbf{x1}    &       2.2070  &        0.209     &    10.575  &         0.000        &        1.787    &        2.627     \\\\\n",
       "\\textbf{x2}    &       2.9768  &        0.020     &   147.490  &         0.000        &        2.936    &        3.017     \\\\\n",
       "\\bottomrule\n",
       "\\end{tabular}\n",
       "\\begin{tabular}{lclc}\n",
       "\\textbf{Omnibus:}       &  2.795 & \\textbf{  Durbin-Watson:     } &    2.146  \\\\\n",
       "\\textbf{Prob(Omnibus):} &  0.247 & \\textbf{  Jarque-Bera (JB):  } &    1.562  \\\\\n",
       "\\textbf{Skew:}          & -0.102 & \\textbf{  Prob(JB):          } &    0.458  \\\\\n",
       "\\textbf{Kurtosis:}      &  2.158 & \\textbf{  Cond. No.          } &     142.  \\\\\n",
       "\\bottomrule\n",
       "\\end{tabular}\n",
       "%\\caption{OLS Regression Results}\n",
       "\\end{center}\n",
       "\n",
       "Notes: \\newline\n",
       " [1] Standard Errors assume that the covariance matrix of the errors is correctly specified."
      ],
      "text/plain": [
       "<class 'statsmodels.iolib.summary.Summary'>\n",
       "\"\"\"\n",
       "                            OLS Regression Results                            \n",
       "==============================================================================\n",
       "Dep. Variable:                      y   R-squared:                       1.000\n",
       "Model:                            OLS   Adj. R-squared:                  1.000\n",
       "Method:                 Least Squares   F-statistic:                 1.919e+05\n",
       "Date:                Thu, 19 Sep 2024   Prob (F-statistic):           1.16e-92\n",
       "Time:                        13:09:06   Log-Likelihood:                -74.460\n",
       "No. Observations:                  50   AIC:                             154.9\n",
       "Df Residuals:                      47   BIC:                             160.7\n",
       "Df Model:                           2                                         \n",
       "Covariance Type:            nonrobust                                         \n",
       "==============================================================================\n",
       "                 coef    std err          t      P>|t|      [0.025      0.975]\n",
       "------------------------------------------------------------------------------\n",
       "const          4.6152      0.451     10.227      0.000       3.707       5.523\n",
       "x1             2.2070      0.209     10.575      0.000       1.787       2.627\n",
       "x2             2.9768      0.020    147.490      0.000       2.936       3.017\n",
       "==============================================================================\n",
       "Omnibus:                        2.795   Durbin-Watson:                   2.146\n",
       "Prob(Omnibus):                  0.247   Jarque-Bera (JB):                1.562\n",
       "Skew:                          -0.102   Prob(JB):                        0.458\n",
       "Kurtosis:                       2.158   Cond. No.                         142.\n",
       "==============================================================================\n",
       "\n",
       "Notes:\n",
       "[1] Standard Errors assume that the covariance matrix of the errors is correctly specified.\n",
       "\"\"\""
      ]
     },
     "execution_count": 14,
     "metadata": {},
     "output_type": "execute_result"
    }
   ],
   "source": [
    "results.summary()"
   ]
  },
  {
   "cell_type": "code",
   "execution_count": 15,
   "id": "00d4381b-9223-4653-9f57-9a41d629ac81",
   "metadata": {},
   "outputs": [
    {
     "data": {
      "image/png": "[encoded data removed]",
      "text/plain": [
       "<Figure size 800x600 with 1 Axes>"
      ]
     },
     "metadata": {},
     "output_type": "display_data"
    }
   ],
   "source": [
    "y_fitted = results.fittedvalues\n",
    "fig, ax = plt.subplots(figsize=(8, 6))\n",
    "# 原始数据\n",
    "ax.plot(x, y, 'o', label='data')\n",
    "# 拟合数据\n",
    "ax.plot(x, y_fitted, 'r--', label='OLS') \n",
    "ax.legend(loc='best')\n",
    "plt.show()"
   ]
  },
  {
   "cell_type": "markdown",
   "id": "932e8cb5-7393-4be3-8aff-cbee9aef7729",
   "metadata": {},
   "source": [
    "分类变量"
   ]
  },
  {
   "cell_type": "markdown",
   "id": "867e39cf-fee6-43fd-943a-2f8ff9dc7062",
   "metadata": {},
   "source": [
    "假设分类变量有4个取值(a, b, c)，比如考试成绩有3个等级，a是(1, 0, 0)，b是(0, 1, 0)，c是(0, 0, 1)，这个时候就需要3个系数β0, β1，β2，也就是β0·x0 + β1·x1 + β2·x2。"
   ]
  },
  {
   "cell_type": "code",
   "execution_count": 16,
   "id": "85426913-0079-40d4-99b1-de0f937760ce",
   "metadata": {},
   "outputs": [],
   "source": [
    "import pandas as pd"
   ]
  },
  {
   "cell_type": "code",
   "execution_count": 17,
   "id": "b7e548f9-648b-45ce-85bd-c2f75cbc0d91",
   "metadata": {},
   "outputs": [
    {
     "data": {
      "text/plain": [
       "array([0, 0, 0, 0, 0, 0, 0, 0, 0, 0, 0, 0, 0, 0, 0, 0, 0, 0, 0, 0, 0, 0,\n",
       "       0, 0, 0, 0, 0, 0, 0, 0, 0, 0, 0, 0, 0, 0, 0, 0, 0, 0, 0, 0, 0, 0,\n",
       "       0, 0, 0, 0, 0, 0])"
      ]
     },
     "execution_count": 17,
     "metadata": {},
     "output_type": "execute_result"
    }
   ],
   "source": [
    "n = 50\n",
    "groups = np.zeros(n, int)\n",
    "groups"
   ]
  },
  {
   "cell_type": "code",
   "execution_count": 20,
   "id": "13a4a439-a5f7-40f5-8d8f-1d856b82f572",
   "metadata": {},
   "outputs": [
    {
     "data": {
      "text/plain": [
       "array([[1., 0., 0.],\n",
       "       [1., 0., 0.],\n",
       "       [1., 0., 0.],\n",
       "       [1., 0., 0.],\n",
       "       [1., 0., 0.],\n",
       "       [1., 0., 0.],\n",
       "       [1., 0., 0.],\n",
       "       [1., 0., 0.],\n",
       "       [1., 0., 0.],\n",
       "       [1., 0., 0.],\n",
       "       [1., 0., 0.],\n",
       "       [1., 0., 0.],\n",
       "       [1., 0., 0.],\n",
       "       [1., 0., 0.],\n",
       "       [1., 0., 0.],\n",
       "       [1., 0., 0.],\n",
       "       [1., 0., 0.],\n",
       "       [1., 0., 0.],\n",
       "       [1., 0., 0.],\n",
       "       [1., 0., 0.],\n",
       "       [0., 1., 0.],\n",
       "       [0., 1., 0.],\n",
       "       [0., 1., 0.],\n",
       "       [0., 1., 0.],\n",
       "       [0., 1., 0.],\n",
       "       [0., 1., 0.],\n",
       "       [0., 1., 0.],\n",
       "       [0., 1., 0.],\n",
       "       [0., 1., 0.],\n",
       "       [0., 1., 0.],\n",
       "       [0., 1., 0.],\n",
       "       [0., 1., 0.],\n",
       "       [0., 1., 0.],\n",
       "       [0., 1., 0.],\n",
       "       [0., 1., 0.],\n",
       "       [0., 1., 0.],\n",
       "       [0., 1., 0.],\n",
       "       [0., 1., 0.],\n",
       "       [0., 1., 0.],\n",
       "       [0., 1., 0.],\n",
       "       [0., 0., 1.],\n",
       "       [0., 0., 1.],\n",
       "       [0., 0., 1.],\n",
       "       [0., 0., 1.],\n",
       "       [0., 0., 1.],\n",
       "       [0., 0., 1.],\n",
       "       [0., 0., 1.],\n",
       "       [0., 0., 1.],\n",
       "       [0., 0., 1.],\n",
       "       [0., 0., 1.]])"
      ]
     },
     "execution_count": 20,
     "metadata": {},
     "output_type": "execute_result"
    }
   ],
   "source": [
    "groups[20:40] = 1\n",
    "groups[40:] = 2\n",
    "# 将 groups 数组转换为 DataFrame\n",
    "groups_df = pd.DataFrame(groups, columns=['group'])\n",
    "# 使用 pandas 的 get_dummies 函数创建虚拟变量\n",
    "# drop_first=True 用于避免虚拟变量陷阱\n",
    "dummy = pd.get_dummies(groups_df['group'], prefix='group')\n",
    "# 将 dummy DataFrame 转换回 numpy 数组\n",
    "dummy_array = dummy.values\n",
    "# 将 True 和 False 分别转换为 1 和 0\n",
    "dummy_array = (dummy_array.astype(bool)).astype(float)\n",
    "dummy_array"
   ]
  },
  {
   "cell_type": "code",
   "execution_count": 21,
   "id": "fb6e055f-3db9-4474-a180-e184457ca8ec",
   "metadata": {},
   "outputs": [
    {
     "data": {
      "text/html": [
       "<table class=\"simpletable\">\n",
       "<caption>OLS Regression Results</caption>\n",
       "<tr>\n",
       "  <th>Dep. Variable:</th>            <td>y</td>        <th>  R-squared:         </th> <td>   0.996</td>\n",
       "</tr>\n",
       "<tr>\n",
       "  <th>Model:</th>                   <td>OLS</td>       <th>  Adj. R-squared:    </th> <td>   0.995</td>\n",
       "</tr>\n",
       "<tr>\n",
       "  <th>Method:</th>             <td>Least Squares</td>  <th>  F-statistic:       </th> <td>   3424.</td>\n",
       "</tr>\n",
       "<tr>\n",
       "  <th>Date:</th>             <td>Thu, 19 Sep 2024</td> <th>  Prob (F-statistic):</th> <td>4.68e-54</td>\n",
       "</tr>\n",
       "<tr>\n",
       "  <th>Time:</th>                 <td>13:15:32</td>     <th>  Log-Likelihood:    </th> <td> -67.968</td>\n",
       "</tr>\n",
       "<tr>\n",
       "  <th>No. Observations:</th>      <td>    50</td>      <th>  AIC:               </th> <td>   143.9</td>\n",
       "</tr>\n",
       "<tr>\n",
       "  <th>Df Residuals:</th>          <td>    46</td>      <th>  BIC:               </th> <td>   151.6</td>\n",
       "</tr>\n",
       "<tr>\n",
       "  <th>Df Model:</th>              <td>     3</td>      <th>                     </th>     <td> </td>   \n",
       "</tr>\n",
       "<tr>\n",
       "  <th>Covariance Type:</th>      <td>nonrobust</td>    <th>                     </th>     <td> </td>   \n",
       "</tr>\n",
       "</table>\n",
       "<table class=\"simpletable\">\n",
       "<tr>\n",
       "    <td></td>       <th>coef</th>     <th>std err</th>      <th>t</th>      <th>P>|t|</th>  <th>[0.025</th>    <th>0.975]</th>  \n",
       "</tr>\n",
       "<tr>\n",
       "  <th>const</th> <td>    7.7663</td> <td>    0.557</td> <td>   13.955</td> <td> 0.000</td> <td>    6.646</td> <td>    8.887</td>\n",
       "</tr>\n",
       "<tr>\n",
       "  <th>x1</th>    <td>    2.0744</td> <td>    0.064</td> <td>   32.397</td> <td> 0.000</td> <td>    1.946</td> <td>    2.203</td>\n",
       "</tr>\n",
       "<tr>\n",
       "  <th>x2</th>    <td>    0.0073</td> <td>    0.353</td> <td>    0.021</td> <td> 0.984</td> <td>   -0.703</td> <td>    0.718</td>\n",
       "</tr>\n",
       "<tr>\n",
       "  <th>x3</th>    <td>    2.2568</td> <td>    0.295</td> <td>    7.651</td> <td> 0.000</td> <td>    1.663</td> <td>    2.850</td>\n",
       "</tr>\n",
       "<tr>\n",
       "  <th>x4</th>    <td>    5.5023</td> <td>    0.664</td> <td>    8.280</td> <td> 0.000</td> <td>    4.165</td> <td>    6.840</td>\n",
       "</tr>\n",
       "</table>\n",
       "<table class=\"simpletable\">\n",
       "<tr>\n",
       "  <th>Omnibus:</th>       <td> 1.934</td> <th>  Durbin-Watson:     </th> <td>   2.169</td>\n",
       "</tr>\n",
       "<tr>\n",
       "  <th>Prob(Omnibus):</th> <td> 0.380</td> <th>  Jarque-Bera (JB):  </th> <td>   1.634</td>\n",
       "</tr>\n",
       "<tr>\n",
       "  <th>Skew:</th>          <td>-0.439</td> <th>  Prob(JB):          </th> <td>   0.442</td>\n",
       "</tr>\n",
       "<tr>\n",
       "  <th>Kurtosis:</th>      <td> 2.888</td> <th>  Cond. No.          </th> <td>2.01e+17</td>\n",
       "</tr>\n",
       "</table><br/><br/>Notes:<br/>[1] Standard Errors assume that the covariance matrix of the errors is correctly specified.<br/>[2] The smallest eigenvalue is 1.68e-31. This might indicate that there are<br/>strong multicollinearity problems or that the design matrix is singular."
      ],
      "text/latex": [
       "\\begin{center}\n",
       "\\begin{tabular}{lclc}\n",
       "\\toprule\n",
       "\\textbf{Dep. Variable:}    &        y         & \\textbf{  R-squared:         } &     0.996   \\\\\n",
       "\\textbf{Model:}            &       OLS        & \\textbf{  Adj. R-squared:    } &     0.995   \\\\\n",
       "\\textbf{Method:}           &  Least Squares   & \\textbf{  F-statistic:       } &     3424.   \\\\\n",
       "\\textbf{Date:}             & Thu, 19 Sep 2024 & \\textbf{  Prob (F-statistic):} &  4.68e-54   \\\\\n",
       "\\textbf{Time:}             &     13:15:32     & \\textbf{  Log-Likelihood:    } &   -67.968   \\\\\n",
       "\\textbf{No. Observations:} &          50      & \\textbf{  AIC:               } &     143.9   \\\\\n",
       "\\textbf{Df Residuals:}     &          46      & \\textbf{  BIC:               } &     151.6   \\\\\n",
       "\\textbf{Df Model:}         &           3      & \\textbf{                     } &             \\\\\n",
       "\\textbf{Covariance Type:}  &    nonrobust     & \\textbf{                     } &             \\\\\n",
       "\\bottomrule\n",
       "\\end{tabular}\n",
       "\\begin{tabular}{lcccccc}\n",
       "               & \\textbf{coef} & \\textbf{std err} & \\textbf{t} & \\textbf{P$> |$t$|$} & \\textbf{[0.025} & \\textbf{0.975]}  \\\\\n",
       "\\midrule\n",
       "\\textbf{const} &       7.7663  &        0.557     &    13.955  &         0.000        &        6.646    &        8.887     \\\\\n",
       "\\textbf{x1}    &       2.0744  &        0.064     &    32.397  &         0.000        &        1.946    &        2.203     \\\\\n",
       "\\textbf{x2}    &       0.0073  &        0.353     &     0.021  &         0.984        &       -0.703    &        0.718     \\\\\n",
       "\\textbf{x3}    &       2.2568  &        0.295     &     7.651  &         0.000        &        1.663    &        2.850     \\\\\n",
       "\\textbf{x4}    &       5.5023  &        0.664     &     8.280  &         0.000        &        4.165    &        6.840     \\\\\n",
       "\\bottomrule\n",
       "\\end{tabular}\n",
       "\\begin{tabular}{lclc}\n",
       "\\textbf{Omnibus:}       &  1.934 & \\textbf{  Durbin-Watson:     } &    2.169  \\\\\n",
       "\\textbf{Prob(Omnibus):} &  0.380 & \\textbf{  Jarque-Bera (JB):  } &    1.634  \\\\\n",
       "\\textbf{Skew:}          & -0.439 & \\textbf{  Prob(JB):          } &    0.442  \\\\\n",
       "\\textbf{Kurtosis:}      &  2.888 & \\textbf{  Cond. No.          } & 2.01e+17  \\\\\n",
       "\\bottomrule\n",
       "\\end{tabular}\n",
       "%\\caption{OLS Regression Results}\n",
       "\\end{center}\n",
       "\n",
       "Notes: \\newline\n",
       " [1] Standard Errors assume that the covariance matrix of the errors is correctly specified. \\newline\n",
       " [2] The smallest eigenvalue is 1.68e-31. This might indicate that there are \\newline\n",
       " strong multicollinearity problems or that the design matrix is singular."
      ],
      "text/plain": [
       "<class 'statsmodels.iolib.summary.Summary'>\n",
       "\"\"\"\n",
       "                            OLS Regression Results                            \n",
       "==============================================================================\n",
       "Dep. Variable:                      y   R-squared:                       0.996\n",
       "Model:                            OLS   Adj. R-squared:                  0.995\n",
       "Method:                 Least Squares   F-statistic:                     3424.\n",
       "Date:                Thu, 19 Sep 2024   Prob (F-statistic):           4.68e-54\n",
       "Time:                        13:15:32   Log-Likelihood:                -67.968\n",
       "No. Observations:                  50   AIC:                             143.9\n",
       "Df Residuals:                      46   BIC:                             151.6\n",
       "Df Model:                           3                                         \n",
       "Covariance Type:            nonrobust                                         \n",
       "==============================================================================\n",
       "                 coef    std err          t      P>|t|      [0.025      0.975]\n",
       "------------------------------------------------------------------------------\n",
       "const          7.7663      0.557     13.955      0.000       6.646       8.887\n",
       "x1             2.0744      0.064     32.397      0.000       1.946       2.203\n",
       "x2             0.0073      0.353      0.021      0.984      -0.703       0.718\n",
       "x3             2.2568      0.295      7.651      0.000       1.663       2.850\n",
       "x4             5.5023      0.664      8.280      0.000       4.165       6.840\n",
       "==============================================================================\n",
       "Omnibus:                        1.934   Durbin-Watson:                   2.169\n",
       "Prob(Omnibus):                  0.380   Jarque-Bera (JB):                1.634\n",
       "Skew:                          -0.439   Prob(JB):                        0.442\n",
       "Kurtosis:                       2.888   Cond. No.                     2.01e+17\n",
       "==============================================================================\n",
       "\n",
       "Notes:\n",
       "[1] Standard Errors assume that the covariance matrix of the errors is correctly specified.\n",
       "[2] The smallest eigenvalue is 1.68e-31. This might indicate that there are\n",
       "strong multicollinearity problems or that the design matrix is singular.\n",
       "\"\"\""
      ]
     },
     "execution_count": 21,
     "metadata": {},
     "output_type": "execute_result"
    }
   ],
   "source": [
    "# y = 5 + 2·x + 3·z1 + 6·z2 + 9·z3\n",
    "x = np.linspace(0, 20, n)\n",
    "X = np.column_stack((x, dummy))\n",
    "X = sm.add_constant(X)\n",
    "beta = np.array([5, 2, 3, 6, 9])\n",
    "e = np.random.normal(size=n)\n",
    "y = np.dot(X, beta) + e\n",
    "results = sm.OLS(y, X).fit()\n",
    "results.summary()"
   ]
  },
  {
   "cell_type": "code",
   "execution_count": 22,
   "id": "537a1cca-4b45-401e-adb9-71f05d51d615",
   "metadata": {},
   "outputs": [
    {
     "data": {
      "image/png": "[encoded data removed]",
      "text/plain": [
       "<Figure size 800x600 with 1 Axes>"
      ]
     },
     "metadata": {},
     "output_type": "display_data"
    }
   ],
   "source": [
    "y_fitted = results.fittedvalues\n",
    "fig, ax = plt.subplots(figsize=(8, 6))\n",
    "# 原始数据\n",
    "ax.plot(x, y, 'o', label='data')\n",
    "# 拟合数据\n",
    "ax.plot(x, y_fitted, 'r--', label='OLS') \n",
    "ax.legend(loc='best')\n",
    "plt.show()"
   ]
  },
  {
   "cell_type": "code",
   "execution_count": null,
   "id": "d2daabc1-20bc-45b3-8f4a-a4a44f9578d9",
   "metadata": {},
   "outputs": [],
   "source": []
  }
 ],
 "metadata": {
  "kernelspec": {
   "display_name": "Python 3 (ipykernel)",
   "language": "python",
   "name": "python3"
  },
  "language_info": {
   "codemirror_mode": {
    "name": "ipython",
    "version": 3
   },
   "file_extension": ".py",
   "mimetype": "text/x-python",
   "name": "python",
   "nbconvert_exporter": "python",
   "pygments_lexer": "ipython3",
   "version": "3.12.5"
  }
 },
 "nbformat": 4,
 "nbformat_minor": 5
}
